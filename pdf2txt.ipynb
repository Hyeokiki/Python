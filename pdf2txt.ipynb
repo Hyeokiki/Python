{
 "cells": [
  {
   "cell_type": "code",
   "execution_count": 39,
   "id": "b19b5854",
   "metadata": {
    "scrolled": false
   },
   "outputs": [
    {
     "name": "stdout",
     "output_type": "stream",
     "text": [
      "출력할 달을 입력해주세요(ex. 2월이면 2를 입력.) : 3\n"
     ]
    },
    {
     "name": "stderr",
     "output_type": "stream",
     "text": [
      "28it [00:06,  4.13it/s]\n",
      "100%|██████████████████████████████████| 4073/4073 [00:00<00:00, 4217082.25it/s]\n",
      "100%|██████████████████████████████████████████| 26/26 [00:00<00:00, 690.77it/s]\n",
      "100%|███████████████████████████████████████| 26/26 [00:00<00:00, 163741.60it/s]"
     ]
    },
    {
     "name": "stdout",
     "output_type": "stream",
     "text": [
      "#######프리랜서 총합(완성본) 생성 완료#######\n"
     ]
    },
    {
     "name": "stderr",
     "output_type": "stream",
     "text": [
      "\n"
     ]
    }
   ],
   "source": [
    "from fileinput import filename\n",
    "from io import StringIO\n",
    "\n",
    "from pdfminer.converter import TextConverter\n",
    "from pdfminer.layout import LAParams\n",
    "from pdfminer.pdfdocument import PDFDocument\n",
    "from pdfminer.pdfinterp import PDFResourceManager, PDFPageInterpreter\n",
    "from pdfminer.pdfpage import PDFPage\n",
    "from pdfminer.pdfparser import PDFParser\n",
    "import csv\n",
    "import pandas as pd\n",
    "import numpy as np\n",
    "from tqdm import tqdm \n",
    "from openpyxl.styles import Font\n",
    "from openpyxl import load_workbook\n",
    "from openpyxl.styles import Border, Side, PatternFill\n",
    "\n",
    "def convert_pdf_to_string(file_path):\n",
    "    output_string = StringIO()\n",
    "    with open(file_path, 'rb') as in_file:\n",
    "        parser = PDFParser(in_file)\n",
    "        doc = PDFDocument(parser)\n",
    "        rsrcmgr = PDFResourceManager()\n",
    "        device = TextConverter(rsrcmgr, output_string, laparams= LAParams())\n",
    "        interpreter = PDFPageInterpreter(rsrcmgr, device)\n",
    "        for page in tqdm(PDFPage.create_pages(doc)):\n",
    "            interpreter.process_page(page)\n",
    "        \n",
    "    return(output_string.getvalue())\n",
    "\n",
    "\n",
    "if __name__ == '__main__':\n",
    "    originMonth = int(input(\"출력할 달을 입력해주세요(ex. 2월이면 2를 입력.) : \"))\n",
    "    pdfName = \"./(주)오데야 \"+ str(originMonth) +\"월사업소득자.pdf\"\n",
    "    \n",
    "    text = convert_pdf_to_string(pdfName)\n",
    "    text = text.replace('.', '')\n",
    "    text = text.replace('\\x0c','')\n",
    "    table_of_contents_raw = text.split('\\n')\n",
    "    #print(table_of_contents_raw)\n",
    "    #for txt in table_of_contents_raw :\n",
    "    #    print(txt)\n",
    "    #print(convert_pdf_to_string(pdfName))\n",
    "    \n",
    "    name_dict = {} #이름 dictionary (ex. 0 : 첫 번째 사람 이름 ...)\n",
    "    people_dict = {} #각 사람 별 정보 dictionary\n",
    "    dict_index = 0\n",
    "                \n",
    "    name_dict[dict_index] = '유진'\n",
    "    people_dict['유진'] = []\n",
    "    \n",
    "    #940909 #왼쪽으로 이름 찾기 #'유진'님은 두 글자라 따로 넣어 줘야됨 ㅠ\n",
    "    for txt in tqdm(table_of_contents_raw) :\n",
    "        if \"940909 \" in txt :\n",
    "            #print(txt[7:10])\n",
    "            name_dict[dict_index] = txt[7:10]\n",
    "            people_dict[txt[7:10]] = []\n",
    "            dict_index += 1\n",
    "            \n",
    "    dict_index = 0\n",
    "    remove_set = {''}\n",
    "    for name in tqdm(people_dict):\n",
    "        ujinFlag = True\n",
    "        flag = False\n",
    "        for txt in table_of_contents_raw :\n",
    "            if txt == '유진' and ujinFlag == True:\n",
    "                ujinFlag = False\n",
    "                continue\n",
    "            if txt.find(\"동,\") != -1 :\n",
    "                continue\n",
    "            if txt.find(\"길\") != -1 :\n",
    "                continue\n",
    "            #print(txt)\n",
    "            if flag :\n",
    "                people_dict[name].append(txt)                \n",
    "            if txt == name:\n",
    "                flag = True\n",
    "            if flag == True and txt == '관리번호':\n",
    "                flag = False\n",
    "                dict_index += 1\n",
    "        people_dict[name] = [p for p in people_dict[name] if p not in remove_set]\n",
    "        people_dict[name] = [p for p in people_dict[name] if p.find(\",\") != -1]\n",
    "        people_dict[name] = '/'.join(dict.fromkeys(people_dict[name]))\n",
    "        #print(name)\n",
    "        #print(people_dict[name])\n",
    "    \n",
    "    wb = load_workbook(\"./\"+ str(originMonth) +\"월 프리랜서 총합(완성본).xlsx\")\n",
    "    ws = wb.active\n",
    "    \n",
    "    #print(len(people_dict))\n",
    "    maxRow = len(people_dict) + 4\n",
    "    for rowIndex in tqdm(range(4, maxRow, 1)):\n",
    "        targetName = ws.cell(row = rowIndex, column = 3).value\n",
    "        if targetName in people_dict:\n",
    "            #if targetName == '유진':\n",
    "                #print(people_dict[targetName])\n",
    "            if people_dict[targetName] != []:\n",
    "                #print(people_dict[targetName].split('/')[-1])5\n",
    "                ws.cell(row = rowIndex, column = 5).value = \"₩\" + people_dict[targetName].split('/')[-1]\n",
    "    wb.save(\"./\"+ str(originMonth) +\"월 프리랜서 총합(완성본).xlsx\")\n",
    "    print(\"#######프리랜서 총합(완성본) 생성 완료#######\")\n",
    "   \n",
    "    \n",
    "\n",
    "    \n"
   ]
  },
  {
   "cell_type": "code",
   "execution_count": null,
   "id": "f546ae2c",
   "metadata": {},
   "outputs": [],
   "source": []
  }
 ],
 "metadata": {
  "kernelspec": {
   "display_name": "Python 3 (ipykernel)",
   "language": "python",
   "name": "python3"
  },
  "language_info": {
   "codemirror_mode": {
    "name": "ipython",
    "version": 3
   },
   "file_extension": ".py",
   "mimetype": "text/x-python",
   "name": "python",
   "nbconvert_exporter": "python",
   "pygments_lexer": "ipython3",
   "version": "3.9.7"
  }
 },
 "nbformat": 4,
 "nbformat_minor": 5
}
