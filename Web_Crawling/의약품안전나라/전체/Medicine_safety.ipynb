{
 "cells": [
  {
   "cell_type": "code",
   "execution_count": null,
   "id": "33d86f60",
   "metadata": {
    "scrolled": false
   },
   "outputs": [
    {
     "name": "stderr",
     "output_type": "stream",
     "text": [
      "  3%|██▋                                                                          | 250/7222 [20:18<8:05:59,  4.18s/it]"
     ]
    },
    {
     "name": "stdout",
     "output_type": "stream",
     "text": [
      "통신 에러\n",
      "다시 request\n"
     ]
    },
    {
     "name": "stderr",
     "output_type": "stream",
     "text": [
      "  3%|██▋                                                                         | 252/7222 [20:49<18:27:25,  9.53s/it]"
     ]
    },
    {
     "name": "stdout",
     "output_type": "stream",
     "text": [
      "통신 에러\n",
      "다시 request\n"
     ]
    },
    {
     "name": "stderr",
     "output_type": "stream",
     "text": [
      "  8%|█████▊                                                                    | 562/7222 [1:01:59<32:02:37, 17.32s/it]"
     ]
    },
    {
     "name": "stdout",
     "output_type": "stream",
     "text": [
      "통신 에러\n",
      "다시 request\n",
      "통신 에러\n",
      "다시 request\n"
     ]
    },
    {
     "name": "stderr",
     "output_type": "stream",
     "text": [
      "\r",
      "  8%|█████▍                                                                | 563/7222 [2:22:48<2713:27:57, 1466.96s/it]"
     ]
    },
    {
     "name": "stdout",
     "output_type": "stream",
     "text": [
      "통신 에러\n",
      "다시 request\n"
     ]
    },
    {
     "name": "stderr",
     "output_type": "stream",
     "text": [
      "\r",
      "  8%|█████▍                                                                | 564/7222 [2:23:08<1910:11:48, 1032.85s/it]"
     ]
    }
   ],
   "source": [
    "import requests\n",
    "import json\n",
    "import pandas as pd\n",
    "import time\n",
    "from bs4 import BeautifulSoup\n",
    "from tqdm import tqdm\n",
    "\n",
    "\n",
    "#불러올 페이지 수 (총 7222페이지)\n",
    "i = 7222\n",
    "df = pd.DataFrame()\n",
    "df2 = pd.DataFrame()\n",
    "\n",
    "for i in tqdm(range(1,(i+1))):\n",
    "    requestURL = 'https://nedrug.mfds.go.kr/searchDrug?sort=&sortOrder=&searchYn=&ExcelRowdata=&page='+str(i)+'&searchDivision=detail&itemName=&entpName=&ingrName1=&ingrName2=&ingrName3=&itemSeq=&stdrCodeName=&atcCodeName=&indutyClassCode=&sClassNo=&narcoticKindCode=&cancelCode=&etcOtcCode=&makeMaterialGb=&searchConEe=AND&eeDocData=&searchConUd=AND&udDocData=&searchConNb=AND&nbDocData=&startPermitDate=&endPermitDate='\n",
    "    while True:\n",
    "        try:\n",
    "            res = requests.get(requestURL)\n",
    "            break;\n",
    "        except:\n",
    "            print(\"통신 에러\")\n",
    "            print(\"다시 request\")\n",
    "            continue;\n",
    "    html_doc = res.text\n",
    "    soup = BeautifulSoup(html_doc, 'html.parser')\n",
    "    #print(soup.prettify())\n",
    "    \n",
    "    #각 제품의 request보낼 url모으기\n",
    "    itemSeqList=[]\n",
    "    links = soup.find_all(\"a\")\n",
    "    for a in links:\n",
    "        href = a.attrs['href']\n",
    "        if \"itemSeq\" in href:\n",
    "            #print(href)\n",
    "            itemSeqList.append(href)\n",
    "        itemNum = 15\n",
    "        if i == 7222:\n",
    "            itemNum = 14\n",
    "        if len(itemSeqList) == itemNum:\n",
    "            break\n",
    "    #print(itemSeqList)\n",
    "    \n",
    "    #한 페이지당 15개 data가 있음\n",
    "    #data 가져오기\n",
    "    for j in range(0,len(itemSeqList)):\n",
    "        cindex = []\n",
    "        rindex = [str(j+1)]\n",
    "        \n",
    "        detailURL='https://nedrug.mfds.go.kr'+str(itemSeqList[j])\n",
    "        while True:\n",
    "            try:\n",
    "                res2 = requests.get(detailURL)\n",
    "                break;\n",
    "            except:\n",
    "                print(\"통신 에러\")\n",
    "                time.sleep(9)\n",
    "                print(\"다시 request\")\n",
    "        html_doc2 = res2.text\n",
    "        soup2 =BeautifulSoup(html_doc2, 'html.parser')\n",
    "        #print(soup2.prettify())\n",
    "            \n",
    "        #col index 가져오기\n",
    "        FILTER = ['년도','생산실적','순번','변경일자','변경항목'] #여기에 해당되는건 NO\n",
    "        for title in soup2.find_all('th'):\n",
    "            if(title.get_text() in (FILTER+cindex) ):\n",
    "                break;\n",
    "            cindex.append(title.get_text())\n",
    "        datalist = []\n",
    "        flag = 0\n",
    "        for DATA in soup2.find_all('td'):\n",
    "            #print(DATA.get_text())\n",
    "            flag += 1\n",
    "            datalist.append(DATA.get_text())\n",
    "            if(flag == len(cindex)):\n",
    "                break\n",
    "                \n",
    "        #유효성분 가져오기\n",
    "        cindex.append(\"유효성분\")\n",
    "        ingredient = soup2.find_all('h3', class_='cont_title3 mt27 pb10')\n",
    "        if ingredient:\n",
    "            for ing in ingredient:\n",
    "                datalist.append(ing.get_text().replace('유효성분 : ',''))\n",
    "        else :\n",
    "            datalist.append(\"\")\n",
    "            \n",
    "        #유효성분 분량 가져오기\n",
    "        #나중에 여기서 a[0]으로 세세히 나눌 수 있을 듯?\n",
    "        cindex.append(\"분량\")\n",
    "        amount = soup2.find_all('p', class_='note')\n",
    "        adic = {}\n",
    "        for alist in amount:\n",
    "            temp = alist.get_text()\n",
    "            a = temp.split('\\xa0\\xa0|\\xa0\\xa0')            \n",
    "            #print(temp)\n",
    "            #if a[0] != '조회 결과가 없습니다.':\n",
    "            if len(a) > 2:\n",
    "                i_name = a[1].replace('성분명 : ','')\n",
    "                i_amount = a[2].replace('분량 : ',' ')\n",
    "                i_unit = a[3].replace('단위 : ', '')\n",
    "                #print(i_name + i_amount + i_unit)\n",
    "                adic[i_name] = i_amount+i_unit\n",
    "        if adic == {}:\n",
    "            datalist.append(\"\")\n",
    "        else:\n",
    "            s = \"\"\n",
    "            itemList = adic.items()\n",
    "            for item in itemList:\n",
    "                s += item[0] + \" :\" + item[1] + \"\\n\"\n",
    "            datalist.append(s)\n",
    "            \n",
    "        #효능효과 추가하기\n",
    "        cindex.append(\"효능효과\")\n",
    "        way = soup2.find_all('div', id ='_ee_doc')\n",
    "        s = \"\"\n",
    "        for w in way:\n",
    "            s += w.get_text()\n",
    "        \n",
    "        datalist.append(s)\n",
    "        \n",
    "        #용법용량 추가하기\n",
    "        cindex.append(\"용법용량\")\n",
    "        way = soup2.find_all('div', id ='_ud_doc')\n",
    "        s = \"\"\n",
    "        for w in way:\n",
    "            s += w.get_text()\n",
    "        \n",
    "        datalist.append(s)\n",
    "        \n",
    "        #주의사항 추가하기\n",
    "        cindex.append(\"주의사항\")\n",
    "        way = soup2.find_all('div', id ='_nb_doc')\n",
    "        s = \"\"\n",
    "        for w in way:\n",
    "            s += w.get_text()\n",
    "        \n",
    "        datalist.append(s)\n",
    "        \n",
    "            \n",
    "        #URL 추가하기\n",
    "        cindex.append(\"URL\")\n",
    "        datalist.append(detailURL)\n",
    "        \n",
    "        #추출 후 남은 데이터\n",
    "        cindex.append(\"추출 후 남은 데이터\")\n",
    "        datalist.append(\"#none\")\n",
    "        \n",
    "        #데이터 값 수정\n",
    "        pos = cindex.index('품목기준코드')\n",
    "        datalist[pos] = \"kdrug-\" + datalist[pos]\n",
    "        \n",
    "        #데이터 프레임 만들기\n",
    "        temp = pd.DataFrame(data= [datalist],index=rindex, columns = cindex)\n",
    "        \n",
    "        #데이터 프레임 합치기\n",
    "        df = pd.concat([df, temp])\n",
    "        \n",
    "        \n",
    "\n",
    "df.to_excel(\"크롤링한 모든 데이터(의약품안전나라).xlsx\", index = False )\n",
    "print(\"전체 data 가져오기 성공\")"
   ]
  },
  {
   "cell_type": "markdown",
   "id": "4966c13b",
   "metadata": {},
   "source": [
    "<h2>필요한 열만 추출하기"
   ]
  },
  {
   "cell_type": "code",
   "execution_count": null,
   "id": "af6d317c",
   "metadata": {},
   "outputs": [],
   "source": [
    "finalDf = df[['품목기준코드','제품명','업체명','성상','유효성분','분량','효능효과','용법용량','주의사항','URL','추출 후 남은 데이터']]\n",
    "finalDf.rename(columns={'품목기준코드':'제품코드','업체명':'제조사'},inplace=True)\n",
    "finalDf.to_excel(\"result(의약품안전나라).xlsx\", index = False)\n",
    "print(\"최종 excel파일 생성 완료\")"
   ]
  },
  {
   "cell_type": "markdown",
   "id": "c6a9e831",
   "metadata": {},
   "source": [
    "<h1>=================================================="
   ]
  },
  {
   "cell_type": "markdown",
   "id": "ad867b25",
   "metadata": {},
   "source": [
    "<h2>너무 오래걸려서 함수로 만들어 나눠서 엑셀로 만듬"
   ]
  },
  {
   "cell_type": "code",
   "execution_count": 62,
   "id": "84d35e7c",
   "metadata": {},
   "outputs": [],
   "source": [
    "import requests\n",
    "import json\n",
    "import pandas as pd\n",
    "import time\n",
    "from bs4 import BeautifulSoup\n",
    "from tqdm import tqdm"
   ]
  },
  {
   "cell_type": "markdown",
   "id": "f747d5c7",
   "metadata": {},
   "source": [
    "<h2>품목기준코드 URL 가져오기"
   ]
  },
  {
   "cell_type": "code",
   "execution_count": 63,
   "id": "dfaa4968",
   "metadata": {},
   "outputs": [],
   "source": [
    "def get_codeURL(start_pageNum, end_pageNum):\n",
    "    code_List=[]\n",
    "    for i in tqdm(range(int(start_pageNum),(int(end_pageNum)+1)) ) :\n",
    "        itemSeqList = []\n",
    "        requestURL = 'https://nedrug.mfds.go.kr/searchDrug?sort=&sortOrder=&searchYn=&ExcelRowdata=&page='+str(i)+'&searchDivision=detail&itemName=&entpName=&ingrName1=&ingrName2=&ingrName3=&itemSeq=&stdrCodeName=&atcCodeName=&indutyClassCode=&sClassNo=&narcoticKindCode=&cancelCode=&etcOtcCode=&makeMaterialGb=&searchConEe=AND&eeDocData=&searchConUd=AND&udDocData=&searchConNb=AND&nbDocData=&startPermitDate=&endPermitDate='\n",
    "        while True:\n",
    "            try:\n",
    "                res = requests.get(requestURL)\n",
    "                break\n",
    "            except:\n",
    "                print(\"통신 에러\")\n",
    "                print(\"다시 request\")\n",
    "                continue\n",
    "        html_doc = res.text\n",
    "        soup = BeautifulSoup(html_doc, 'html.parser')\n",
    "        #각 제품의 request보낼 url모으기\n",
    "        links = soup.find_all(\"a\")\n",
    "        for a in links:\n",
    "            href = a.attrs['href']\n",
    "            if \"itemSeq\" in href:\n",
    "                itemSeqList.append(href)\n",
    "            itemNum = 15\n",
    "            if i == 7222: itemNum=14 #마지막 페이지는 품목 14개임.\n",
    "            if len(itemSeqList) == itemNum:\n",
    "                break\n",
    "        code_List += itemSeqList\n",
    "    return code_List"
   ]
  },
  {
   "cell_type": "markdown",
   "id": "7ecfa1b2",
   "metadata": {},
   "source": [
    "<h2>페이지 당 품목 정보 엑셀로 만들기"
   ]
  },
  {
   "cell_type": "code",
   "execution_count": 64,
   "id": "5c57968d",
   "metadata": {},
   "outputs": [],
   "source": [
    "def getData2Excel(itemSeqList, excelName):\n",
    "    df = pd.DataFrame()\n",
    "    df2 = pd.DataFrame()\n",
    "    for j in tqdm(range(0,len(itemSeqList))):\n",
    "        cindex = []\n",
    "        rindex = [str(j+1)]\n",
    "\n",
    "        detailURL='https://nedrug.mfds.go.kr'+str(itemSeqList[j])\n",
    "        while True:\n",
    "            try:\n",
    "                res2 = requests.get(detailURL)\n",
    "                break\n",
    "            except:\n",
    "                print(\"통신 에러\")\n",
    "                print(\"다시 request\")\n",
    "                continue\n",
    "        html_doc2 = res2.text\n",
    "        soup2 =BeautifulSoup(html_doc2, 'html.parser')\n",
    "\n",
    "        #col index 가져오기\n",
    "        FILTER = ['년도','생산실적','순번','변경일자','변경항목'] #여기에 해당되는건 NO\n",
    "        for title in soup2.find_all('th'):\n",
    "            if(title.get_text() in (FILTER+cindex) ):\n",
    "                break;\n",
    "            cindex.append(title.get_text())\n",
    "        datalist = []\n",
    "        flag = 0\n",
    "        for DATA in soup2.find_all('td'):\n",
    "            #print(DATA.get_text())\n",
    "            flag += 1\n",
    "            datalist.append(DATA.get_text())\n",
    "            if(flag == len(cindex)):\n",
    "                break\n",
    "\n",
    "        #유효성분 가져오기\n",
    "        cindex.append(\"유효성분\")\n",
    "        ingredient = soup2.find_all('h3', class_='cont_title3 mt27 pb10')\n",
    "        if ingredient:\n",
    "            for ing in ingredient:\n",
    "                datalist.append(ing.get_text().replace('유효성분 : ',''))\n",
    "        else :\n",
    "            datalist.append(\"\")\n",
    "\n",
    "        #유효성분 분량 가져오기\n",
    "        #나중에 여기서 a[0]으로 세세히 나눌 수 있을 듯?\n",
    "        cindex.append(\"분량\")\n",
    "        amount = soup2.find_all('p', class_='note')\n",
    "        adic = {}\n",
    "        for alist in amount:\n",
    "            temp = alist.get_text()\n",
    "            a = temp.split('\\xa0\\xa0|\\xa0\\xa0')            \n",
    "            #print(temp)\n",
    "            #if a[0] != '조회 결과가 없습니다.':\n",
    "            if len(a) > 2:\n",
    "                i_name = a[1].replace('성분명 : ','')\n",
    "                i_amount = a[2].replace('분량 : ',' ')\n",
    "                i_unit = a[3].replace('단위 : ', '')\n",
    "                #print(i_name + i_amount + i_unit)\n",
    "                adic[i_name] = i_amount+i_unit\n",
    "        if adic == {}:\n",
    "            datalist.append(\"\")\n",
    "        else:\n",
    "            s = \"\"\n",
    "            itemList = adic.items()\n",
    "            for item in itemList:\n",
    "                s += item[0] + \" :\" + item[1] + \"\\n\"\n",
    "            datalist.append(s)\n",
    "\n",
    "        #효능효과 추가하기\n",
    "        cindex.append(\"효능효과\")\n",
    "        way = soup2.find_all('div', id ='_ee_doc')\n",
    "        s = \"\"\n",
    "        for w in way:\n",
    "            s += w.get_text()\n",
    "\n",
    "        datalist.append(s)\n",
    "\n",
    "        #용법용량 추가하기\n",
    "        cindex.append(\"용법용량\")\n",
    "        way = soup2.find_all('div', id ='_ud_doc')\n",
    "        s = \"\"\n",
    "        for w in way:\n",
    "            s += w.get_text()\n",
    "\n",
    "        datalist.append(s)\n",
    "\n",
    "        #주의사항 추가하기\n",
    "        cindex.append(\"주의사항\")\n",
    "        way = soup2.find_all('div', id ='_nb_doc')\n",
    "        s = \"\"\n",
    "        for w in way:\n",
    "            s += w.get_text()\n",
    "\n",
    "        datalist.append(s)\n",
    "\n",
    "\n",
    "        #URL 추가하기\n",
    "        cindex.append(\"URL\")\n",
    "        datalist.append(detailURL)\n",
    "\n",
    "        #추출 후 남은 데이터\n",
    "        cindex.append(\"추출 후 남은 데이터\")\n",
    "        datalist.append(\"#none\")\n",
    "\n",
    "        #데이터 값 수정\n",
    "        pos = cindex.index('품목기준코드')\n",
    "        datalist[pos] = \"kdrug-\" + datalist[pos]\n",
    "\n",
    "        #데이터 프레임 만들기\n",
    "        temp = pd.DataFrame(data= [datalist],index=rindex, columns = cindex)\n",
    "\n",
    "        #데이터 프레임 합치기\n",
    "        df = pd.concat([df, temp])\n",
    "\n",
    "    df.to_excel(\"모든 데이터[\"+str(excelName)+\"](의약품안전나라).xlsx\", index = False )\n",
    "    print(\"전체 data 가져오기 성공\")\n",
    "\n",
    "    finalDf = df[['품목기준코드','제품명','업체명','성상','유효성분','분량','효능효과','용법용량','주의사항','URL','추출 후 남은 데이터']]\n",
    "    finalDf.rename(columns={'품목기준코드':'제품코드','업체명':'제조사'},inplace=True)\n",
    "    finalDf.to_excel(\"result[\"+str(excelName)+\"](의약품안전나라).xlsx\", index = False)\n",
    "    print(\"최종 excel파일 생성 완료\")\n",
    "    return"
   ]
  },
  {
   "cell_type": "code",
   "execution_count": 59,
   "id": "34fb63e6",
   "metadata": {
    "scrolled": true
   },
   "outputs": [
    {
     "name": "stderr",
     "output_type": "stream",
     "text": [
      "100%|████████████████████████████████████████████████████████████████████████████████| 150/150 [00:59<00:00,  2.52it/s]\n"
     ]
    },
    {
     "name": "stdout",
     "output_type": "stream",
     "text": [
      "전체 data 가져오기 성공\n",
      "최종 excel파일 생성 완료\n"
     ]
    }
   ],
   "source": [
    "temp = get_codeURL(1,10)\n",
    "getData2Excel(temp, \"1-10\")"
   ]
  },
  {
   "cell_type": "markdown",
   "id": "01097467",
   "metadata": {},
   "source": [
    "<h1> 500페이지씩 엑셀로 출력"
   ]
  },
  {
   "cell_type": "code",
   "execution_count": null,
   "id": "69784faa",
   "metadata": {
    "scrolled": false
   },
   "outputs": [
    {
     "name": "stderr",
     "output_type": "stream",
     "text": [
      "100%|████████████████████████████████████████████████████████████████████████████████| 500/500 [04:54<00:00,  1.70it/s]\n",
      " 22%|█████████████████▏                                                            | 1658/7500 [10:42<28:42,  3.39it/s]"
     ]
    },
    {
     "name": "stdout",
     "output_type": "stream",
     "text": [
      "통신 에러\n",
      "다시 request\n"
     ]
    },
    {
     "name": "stderr",
     "output_type": "stream",
     "text": [
      " 98%|████████████████████████████████████████████████████████████████████████████▋ | 7370/7500 [41:51<00:51,  2.51it/s]"
     ]
    },
    {
     "name": "stdout",
     "output_type": "stream",
     "text": [
      "통신 에러\n",
      "다시 request\n"
     ]
    },
    {
     "name": "stderr",
     "output_type": "stream",
     "text": [
      "100%|██████████████████████████████████████████████████████████████████████████████| 7500/7500 [43:15<00:00,  2.89it/s]\n"
     ]
    },
    {
     "name": "stdout",
     "output_type": "stream",
     "text": [
      "전체 data 가져오기 성공\n"
     ]
    },
    {
     "name": "stderr",
     "output_type": "stream",
     "text": [
      "\r",
      "  0%|                                                                                          | 0/500 [00:00<?, ?it/s]"
     ]
    },
    {
     "name": "stdout",
     "output_type": "stream",
     "text": [
      "최종 excel파일 생성 완료\n"
     ]
    },
    {
     "name": "stderr",
     "output_type": "stream",
     "text": [
      " 54%|███████████████████████████████████████████▏                                    | 270/500 [02:28<02:08,  1.79it/s]"
     ]
    },
    {
     "name": "stdout",
     "output_type": "stream",
     "text": [
      "통신 에러\n",
      "다시 request\n"
     ]
    },
    {
     "name": "stderr",
     "output_type": "stream",
     "text": [
      "100%|████████████████████████████████████████████████████████████████████████████████| 500/500 [04:54<00:00,  1.70it/s]\n",
      "  0%|▏                                                                             | 21/7500 [00:17<2:36:33,  1.26s/it]"
     ]
    },
    {
     "name": "stdout",
     "output_type": "stream",
     "text": [
      "통신 에러\n",
      "다시 request\n"
     ]
    },
    {
     "name": "stderr",
     "output_type": "stream",
     "text": [
      "100%|████████████████████████████████████████████████████████████████████████████| 7500/7500 [1:57:00<00:00,  1.07it/s]\n"
     ]
    },
    {
     "name": "stdout",
     "output_type": "stream",
     "text": [
      "전체 data 가져오기 성공\n"
     ]
    },
    {
     "name": "stderr",
     "output_type": "stream",
     "text": [
      "\r",
      "  0%|                                                                                          | 0/500 [00:00<?, ?it/s]"
     ]
    },
    {
     "name": "stdout",
     "output_type": "stream",
     "text": [
      "최종 excel파일 생성 완료\n"
     ]
    },
    {
     "name": "stderr",
     "output_type": "stream",
     "text": [
      "100%|████████████████████████████████████████████████████████████████████████████████| 500/500 [05:08<00:00,  1.62it/s]\n",
      " 54%|████████████████████████████████████████▋                                   | 4018/7500 [1:01:15<49:30,  1.17it/s]"
     ]
    },
    {
     "name": "stdout",
     "output_type": "stream",
     "text": [
      "통신 에러\n",
      "다시 request\n",
      "통신 에러\n",
      "다시 request\n"
     ]
    },
    {
     "name": "stderr",
     "output_type": "stream",
     "text": [
      "100%|████████████████████████████████████████████████████████████████████████████| 7500/7500 [2:00:31<00:00,  1.04it/s]\n"
     ]
    },
    {
     "name": "stdout",
     "output_type": "stream",
     "text": [
      "전체 data 가져오기 성공\n"
     ]
    },
    {
     "name": "stderr",
     "output_type": "stream",
     "text": [
      "\r",
      "  0%|                                                                                          | 0/500 [00:00<?, ?it/s]"
     ]
    },
    {
     "name": "stdout",
     "output_type": "stream",
     "text": [
      "최종 excel파일 생성 완료\n"
     ]
    },
    {
     "name": "stderr",
     "output_type": "stream",
     "text": [
      "100%|████████████████████████████████████████████████████████████████████████████████| 500/500 [05:38<00:00,  1.48it/s]\n",
      " 16%|███████████▊                                                                | 1168/7500 [22:20<1:57:13,  1.11s/it]"
     ]
    },
    {
     "name": "stdout",
     "output_type": "stream",
     "text": [
      "통신 에러\n",
      "다시 request\n",
      "통신 에러\n",
      "다시 request\n",
      "통신 에러\n",
      "다시 request\n",
      "통신 에러\n",
      "다시 request\n"
     ]
    },
    {
     "name": "stderr",
     "output_type": "stream",
     "text": [
      " 18%|█████████████▌                                                              | 1334/7500 [26:38<2:20:07,  1.36s/it]"
     ]
    }
   ],
   "source": [
    "interval = 500\n",
    "for i in range(0,14):\n",
    "    temp = get_codeURL(1 + (i*interval), 500 + (i*interval))\n",
    "    getData2Excel(temp, str( 1 + (i*interval) ) + \"-\" + str( 500 + (i*interval) ) )\n",
    "\n",
    "temp = get_codeURL(7001,7222)\n",
    "getData2Excel(temp,\"7001-7222\")"
   ]
  },
  {
   "cell_type": "code",
   "execution_count": null,
   "id": "b412ecad",
   "metadata": {},
   "outputs": [],
   "source": []
  }
 ],
 "metadata": {
  "kernelspec": {
   "display_name": "Python 3",
   "language": "python",
   "name": "python3"
  },
  "language_info": {
   "codemirror_mode": {
    "name": "ipython",
    "version": 3
   },
   "file_extension": ".py",
   "mimetype": "text/x-python",
   "name": "python",
   "nbconvert_exporter": "python",
   "pygments_lexer": "ipython3",
   "version": "3.8.8"
  }
 },
 "nbformat": 4,
 "nbformat_minor": 5
}
